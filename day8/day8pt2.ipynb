{
 "cells": [
  {
   "cell_type": "code",
   "execution_count": null,
   "metadata": {},
   "outputs": [],
   "source": [
    "# find all 1s, 4s, 7s, 8s\n",
    "\n",
    "# find 1: the letters are \"c\" and \"f\" segments\n",
    "\n",
    "# find 7: the \"c\" and \"f\" segments should match the 1's; the remaining is \"a\"\n",
    "\n",
    "# find 4: the \"c\" and \"f\" segments should match the 1's; other two are \"b\" and \"d\"\n",
    "\n",
    "# find 8: \"a\", \"c\"/\"f\", \"b\"/\"d\" are known. the remaining are \"e\"/\"g\"\n",
    "\n",
    "\n",
    "# find remaining length == 5 codes: \n",
    "#   - the one with both \"e\" and \"g\" is 2; \n",
    "#       - look at \"b\"/\"d\"; the one that is present in 2 is \"d\", the other is \"b\"\n",
    "#       - look at \"c\"/\"f\"; the one that is present in 2 is \"c\", the other is \"f\"\n",
    "#   - the one with both \"b\" and \"d\" is 5; \n",
    "#       - look at \"e\"/\"g\"; the one that is present in 5 is \"g\", the other is \"e\"\n",
    "\n",
    "# Now you have all the codes:\n",
    "#   - the remaining length == 5 one is 3\n",
    "#   - \"abcefg\" is 0\n",
    "#   - \"abdefg\" is 6\n",
    "#   - \"abcdfg\" is 9"
   ]
  },
  {
   "cell_type": "code",
   "execution_count": 56,
   "metadata": {},
   "outputs": [],
   "source": [
    "from collections import defaultdict\n",
    "\n",
    "def one_row(inputs, outputs):\n",
    "    char_map = defaultdict(str)\n",
    "    digit_map = {}\n",
    "    length_map = defaultdict(list)\n",
    "    for digit in inputs:\n",
    "        dig_len = len(digit)\n",
    "        length_map[dig_len].append(digit)\n",
    "\n",
    "    # process constants\n",
    "    digit_map[\"1\"] = length_map[2][0]\n",
    "    digit_map[\"7\"] = length_map[3][0]\n",
    "    digit_map[\"4\"] = length_map[4][0]\n",
    "    digit_map[\"8\"] = length_map[7][0]\n",
    "\n",
    "    char_map[\"cf\"] = digit_map[\"1\"]\n",
    "    for char in digit_map[\"7\"]:\n",
    "        if char not in digit_map[\"1\"]:\n",
    "            char_map[\"a\"] = char\n",
    "\n",
    "    for char in digit_map[\"4\"]:\n",
    "        if char not in char_map[\"cf\"]:\n",
    "            char_map[\"bd\"] += char\n",
    "\n",
    "    for char in digit_map[\"8\"]:\n",
    "        if (char not in char_map[\"cf\"]) and (char not in char_map[\"bd\"]) and (char not in char_map[\"a\"]):\n",
    "            char_map[\"eg\"] += char\n",
    "\n",
    "    for code in length_map[5]:\n",
    "        if (char_map[\"eg\"][0] in code) and (char_map[\"eg\"][1] in code):\n",
    "            digit_map[\"2\"] = code\n",
    "        elif (char_map[\"bd\"][0] in code) and (char_map[\"bd\"][1] in code):\n",
    "            digit_map[\"5\"] = code\n",
    "        else:\n",
    "            digit_map[\"3\"] = code\n",
    "\n",
    "    for char in char_map[\"bd\"]:\n",
    "        if char in digit_map[\"2\"]:\n",
    "            char_map[\"d\"] = char\n",
    "        else:\n",
    "            char_map[\"b\"] = char\n",
    "\n",
    "    for char in char_map[\"cf\"]:\n",
    "        if char in digit_map[\"2\"]:\n",
    "            char_map[\"c\"] = char\n",
    "        else:\n",
    "            char_map[\"f\"] = char\n",
    "\n",
    "    for char in char_map[\"eg\"]:\n",
    "        if char in digit_map[\"5\"]:\n",
    "            char_map[\"g\"] = char\n",
    "        else:\n",
    "            char_map[\"e\"] = char\n",
    "\n",
    "    digit_map[\"0\"] = \"\".join(char_map[char] for char in \"abcefg\")\n",
    "    digit_map[\"6\"] = \"\".join(char_map[char] for char in \"abdefg\")\n",
    "    digit_map[\"9\"] = \"\".join(char_map[char] for char in \"abcdfg\")\n",
    "\n",
    "    output_combo = \"\"\n",
    "    for output in outputs:\n",
    "        for k, v in digit_map.items():\n",
    "            if set(output) == set(v):\n",
    "                output_combo += k\n",
    "\n",
    "    return int(output_combo)"
   ]
  },
  {
   "cell_type": "code",
   "execution_count": 57,
   "metadata": {},
   "outputs": [],
   "source": [
    "with open(\"./data.txt\") as f:\n",
    "    lines = f.readlines()"
   ]
  },
  {
   "cell_type": "code",
   "execution_count": 58,
   "metadata": {},
   "outputs": [],
   "source": [
    "total = 0\n",
    "for line in lines:\n",
    "    inputs, outputs = [s.split(\" \") for s in line.strip().split(\" | \")]\n",
    "    total += one_row(inputs, outputs)"
   ]
  },
  {
   "cell_type": "code",
   "execution_count": 59,
   "metadata": {},
   "outputs": [
    {
     "data": {
      "text/plain": [
       "1012272"
      ]
     },
     "execution_count": 59,
     "metadata": {},
     "output_type": "execute_result"
    }
   ],
   "source": [
    "total"
   ]
  }
 ],
 "metadata": {
  "interpreter": {
   "hash": "374e1bae6523d9f0252b5090632c3a4d70ad47348f337133822ea0c89515704c"
  },
  "kernelspec": {
   "display_name": "Python 3.9.7 64-bit ('aoc': conda)",
   "language": "python",
   "name": "python3"
  },
  "language_info": {
   "codemirror_mode": {
    "name": "ipython",
    "version": 3
   },
   "file_extension": ".py",
   "mimetype": "text/x-python",
   "name": "python",
   "nbconvert_exporter": "python",
   "pygments_lexer": "ipython3",
   "version": "3.9.7"
  },
  "orig_nbformat": 4
 },
 "nbformat": 4,
 "nbformat_minor": 2
}
