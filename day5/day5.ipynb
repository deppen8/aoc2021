{
 "cells": [
  {
   "cell_type": "code",
   "execution_count": 10,
   "metadata": {},
   "outputs": [],
   "source": [
    "import pandas as pd\n",
    "import numpy as np"
   ]
  },
  {
   "cell_type": "code",
   "execution_count": 11,
   "metadata": {},
   "outputs": [],
   "source": [
    "df = pd.read_csv(\"./data.csv\")"
   ]
  },
  {
   "cell_type": "code",
   "execution_count": 12,
   "metadata": {},
   "outputs": [],
   "source": [
    "# valid_lines = df.loc[(df[\"x1\"]==df[\"x2\"]) | (df[\"y1\"]==df[\"y2\"])]\n",
    "valid_lines = df"
   ]
  },
  {
   "cell_type": "code",
   "execution_count": 13,
   "metadata": {},
   "outputs": [
    {
     "data": {
      "text/plain": [
       "(500, 4)"
      ]
     },
     "execution_count": 13,
     "metadata": {},
     "output_type": "execute_result"
    }
   ],
   "source": [
    "valid_lines.shape"
   ]
  },
  {
   "cell_type": "code",
   "execution_count": 14,
   "metadata": {},
   "outputs": [
    {
     "data": {
      "text/plain": [
       "(989, 990)"
      ]
     },
     "execution_count": 14,
     "metadata": {},
     "output_type": "execute_result"
    }
   ],
   "source": [
    "xmax = valid_lines.loc[:, [\"x1\", \"x2\"]].max().max()\n",
    "ymax = valid_lines.loc[:, [\"y1\", \"y2\"]].max().max()\n",
    "xmax, ymax\n"
   ]
  },
  {
   "cell_type": "code",
   "execution_count": 15,
   "metadata": {},
   "outputs": [],
   "source": [
    "floor_map = np.zeros((990+1, 990+1))  # add 1 to account for zero index"
   ]
  },
  {
   "cell_type": "code",
   "execution_count": 17,
   "metadata": {},
   "outputs": [],
   "source": [
    "# arrs = []\n",
    "for line in valid_lines.itertuples():\n",
    "    # arr = np.zeros_like(floor_map)\n",
    "    if line.y1 == line.y2:  # horiz\n",
    "        start = min(line.x1, line.x2)\n",
    "        end = max(line.x1, line.x2) + 1\n",
    "        # arr[line.y1, start:end] = 1\n",
    "        try:\n",
    "            floor_map[line.y1, start:end] += 1\n",
    "        except:\n",
    "            print(start, end, line)\n",
    "    elif line.x1 == line.x2:  # vertical\n",
    "        start = min(line.y1, line.y2)\n",
    "        end = max(line.y1, line.y2) + 1\n",
    "        # arr[start:end, line.x1] = 1\n",
    "        floor_map[start:end, line.x1] += 1\n",
    "    else:\n",
    "        if (line.x1 < line.x2) and (line.y1 < line.y2):\n",
    "            for x, y in zip(range(line.x1, line.x2+1), range(line.y1, line.y2+1)):\n",
    "                floor_map[y, x] += 1\n",
    "        elif (line.x1 > line.x2) and (line.y1 > line.y2):\n",
    "            for x, y in zip(range(line.x1, line.x2-1, -1), range(line.y1, line.y2-1, -1)):\n",
    "                floor_map[y, x] += 1\n",
    "        elif (line.x1 > line.x2) and (line.y1 < line.y2):\n",
    "            for x, y in zip(range(line.x1, line.x2-1, -1), range(line.y1, line.y2+1)):\n",
    "                floor_map[y, x] += 1\n",
    "        elif (line.x1 < line.x2) and (line.y1 > line.y2):\n",
    "            for x, y in zip(range(line.x1, line.x2+1), range(line.y1, line.y2-1, -1)):\n",
    "                floor_map[y, x] += 1\n",
    "        else:\n",
    "            print(line)\n",
    "\n",
    "    # arrs.append(arr)\n"
   ]
  },
  {
   "cell_type": "code",
   "execution_count": 18,
   "metadata": {},
   "outputs": [
    {
     "data": {
      "text/plain": [
       "20373"
      ]
     },
     "execution_count": 18,
     "metadata": {},
     "output_type": "execute_result"
    }
   ],
   "source": [
    "np.where(floor_map>=2)[0].shape[0]"
   ]
  },
  {
   "cell_type": "code",
   "execution_count": null,
   "metadata": {},
   "outputs": [],
   "source": []
  }
 ],
 "metadata": {
  "interpreter": {
   "hash": "374e1bae6523d9f0252b5090632c3a4d70ad47348f337133822ea0c89515704c"
  },
  "kernelspec": {
   "display_name": "Python 3.9.7 64-bit ('aoc': conda)",
   "language": "python",
   "name": "python3"
  },
  "language_info": {
   "codemirror_mode": {
    "name": "ipython",
    "version": 3
   },
   "file_extension": ".py",
   "mimetype": "text/x-python",
   "name": "python",
   "nbconvert_exporter": "python",
   "pygments_lexer": "ipython3",
   "version": "3.9.7"
  },
  "orig_nbformat": 4
 },
 "nbformat": 4,
 "nbformat_minor": 2
}
