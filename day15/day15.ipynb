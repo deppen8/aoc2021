{
 "cells": [
  {
   "cell_type": "code",
   "execution_count": 1,
   "metadata": {},
   "outputs": [],
   "source": [
    "import numpy as np\n",
    "from skimage.graph import route_through_array"
   ]
  },
  {
   "cell_type": "code",
   "execution_count": 2,
   "metadata": {},
   "outputs": [],
   "source": [
    "with open(\"data.txt\") as f:\n",
    "    lines = f.readlines()\n",
    "\n",
    "cave = np.array([[int(digit) for digit in line.strip()] for line in lines])"
   ]
  },
  {
   "cell_type": "code",
   "execution_count": 3,
   "metadata": {},
   "outputs": [],
   "source": [
    "# cave = np.array([\n",
    "#     [1,1,6,3,7,5,1,7,4,2],\n",
    "#     [1,3,8,1,3,7,3,6,7,2],\n",
    "#     [2,1,3,6,5,1,1,3,2,8],\n",
    "#     [3,6,9,4,9,3,1,5,6,9],\n",
    "#     [7,4,6,3,4,1,7,1,1,1],\n",
    "#     [1,3,1,9,1,2,8,1,3,7],\n",
    "#     [1,3,5,9,9,1,2,4,2,1],\n",
    "#     [3,1,2,5,4,2,1,6,3,9],\n",
    "#     [1,2,9,3,1,3,8,5,2,1],\n",
    "#     [2,3,1,1,9,4,4,5,8,1]\n",
    "# ])"
   ]
  },
  {
   "cell_type": "code",
   "execution_count": 4,
   "metadata": {},
   "outputs": [],
   "source": [
    "# THIS CELL IS PART 2 - SKIP THIS CELL TO GET PART 1\n",
    "add_vals = np.arange(9)\n",
    "add_arr = np.repeat(np.arange(5), repeats=5).reshape(5, 5)\n",
    "\n",
    "for val in range(5):\n",
    "    add_arr[val] = np.roll(add_vals, shift=-1*val)[:5]\n",
    "\n",
    "big_cave = np.zeros((cave.shape[0]*5, cave.shape[1]*5))\n",
    "for row_idx, row in enumerate(add_arr):\n",
    "    for val_idx, val in enumerate(row):\n",
    "        new_cave = cave + val\n",
    "        row_start = row_idx * cave.shape[0]\n",
    "        row_end = row_start + cave.shape[0]\n",
    "        col_start = val_idx * cave.shape[1]\n",
    "        col_end = col_start + cave.shape[1]\n",
    "        big_cave[row_start:row_end, col_start:col_end] = new_cave        \n",
    "\n",
    "cave = np.where(big_cave>9, big_cave-9, big_cave)"
   ]
  },
  {
   "cell_type": "code",
   "execution_count": 5,
   "metadata": {},
   "outputs": [],
   "source": [
    "route, cost = route_through_array(cave, [0, 0], [-1, -1], fully_connected=False, geometric=False)"
   ]
  },
  {
   "cell_type": "code",
   "execution_count": 6,
   "metadata": {},
   "outputs": [
    {
     "data": {
      "text/plain": [
       "2778.0"
      ]
     },
     "execution_count": 6,
     "metadata": {},
     "output_type": "execute_result"
    }
   ],
   "source": [
    "cost - cave[0, 0]"
   ]
  },
  {
   "cell_type": "code",
   "execution_count": null,
   "metadata": {},
   "outputs": [],
   "source": []
  }
 ],
 "metadata": {
  "interpreter": {
   "hash": "374e1bae6523d9f0252b5090632c3a4d70ad47348f337133822ea0c89515704c"
  },
  "kernelspec": {
   "display_name": "Python 3.10.0 64-bit ('aoc': conda)",
   "language": "python",
   "name": "python3"
  },
  "language_info": {
   "codemirror_mode": {
    "name": "ipython",
    "version": 3
   },
   "file_extension": ".py",
   "mimetype": "text/x-python",
   "name": "python",
   "nbconvert_exporter": "python",
   "pygments_lexer": "ipython3",
   "version": "3.10.0"
  },
  "orig_nbformat": 4
 },
 "nbformat": 4,
 "nbformat_minor": 2
}
