{
 "cells": [
  {
   "cell_type": "code",
   "execution_count": 1,
   "metadata": {},
   "outputs": [],
   "source": [
    "import numpy as np"
   ]
  },
  {
   "cell_type": "code",
   "execution_count": 2,
   "metadata": {},
   "outputs": [],
   "source": [
    "arr = np.array([\n",
    "    [1,2,2,4,3,4,6,3,8,4],\n",
    "    [5,6,2,1,1,2,8,5,8,7],\n",
    "    [6,3,8,8,4,2,6,5,4,6],\n",
    "    [1,5,5,6,2,4,7,7,5,6],\n",
    "    [1,4,5,1,8,1,1,5,7,3],\n",
    "    [1,8,3,2,3,8,8,1,2,2],\n",
    "    [2,7,4,8,5,4,5,6,4,7],\n",
    "    [2,5,8,2,8,7,7,4,3,2],\n",
    "    [3,1,8,5,6,4,3,8,7,1],\n",
    "    [2,2,2,4,8,7,6,6,2,7]\n",
    "])"
   ]
  },
  {
   "cell_type": "code",
   "execution_count": 3,
   "metadata": {},
   "outputs": [],
   "source": [
    "# arr = np.array([\n",
    "#     [5,4,8,3,1,4,3,2,2,3],\n",
    "#     [2,7,4,5,8,5,4,7,1,1],\n",
    "#     [5,2,6,4,5,5,6,1,7,3],\n",
    "#     [6,1,4,1,3,3,6,1,4,6],\n",
    "#     [6,3,5,7,3,8,5,4,7,8],\n",
    "#     [4,1,6,7,5,2,4,6,4,5],\n",
    "#     [2,1,7,6,8,4,1,7,2,1],\n",
    "#     [6,8,8,2,8,8,1,1,3,4],\n",
    "#     [4,8,4,6,8,4,8,5,5,4],\n",
    "#     [5,2,8,3,7,5,1,5,2,6]\n",
    "# ])"
   ]
  },
  {
   "cell_type": "code",
   "execution_count": 4,
   "metadata": {},
   "outputs": [],
   "source": [
    "nan_rows = np.empty(10)\n",
    "nan_rows[:] = np.nan\n",
    "\n",
    "nan_cols = np.empty((12, 1))\n",
    "nan_cols[:] = np.nan"
   ]
  },
  {
   "cell_type": "code",
   "execution_count": 5,
   "metadata": {},
   "outputs": [],
   "source": [
    "arr = np.hstack([nan_cols, np.vstack([nan_rows, arr, nan_rows]), nan_cols])"
   ]
  },
  {
   "cell_type": "code",
   "execution_count": 6,
   "metadata": {},
   "outputs": [
    {
     "data": {
      "text/plain": [
       "array([[nan, nan, nan, nan, nan, nan, nan, nan, nan, nan, nan, nan],\n",
       "       [nan,  1.,  2.,  2.,  4.,  3.,  4.,  6.,  3.,  8.,  4., nan],\n",
       "       [nan,  5.,  6.,  2.,  1.,  1.,  2.,  8.,  5.,  8.,  7., nan],\n",
       "       [nan,  6.,  3.,  8.,  8.,  4.,  2.,  6.,  5.,  4.,  6., nan],\n",
       "       [nan,  1.,  5.,  5.,  6.,  2.,  4.,  7.,  7.,  5.,  6., nan],\n",
       "       [nan,  1.,  4.,  5.,  1.,  8.,  1.,  1.,  5.,  7.,  3., nan],\n",
       "       [nan,  1.,  8.,  3.,  2.,  3.,  8.,  8.,  1.,  2.,  2., nan],\n",
       "       [nan,  2.,  7.,  4.,  8.,  5.,  4.,  5.,  6.,  4.,  7., nan],\n",
       "       [nan,  2.,  5.,  8.,  2.,  8.,  7.,  7.,  4.,  3.,  2., nan],\n",
       "       [nan,  3.,  1.,  8.,  5.,  6.,  4.,  3.,  8.,  7.,  1., nan],\n",
       "       [nan,  2.,  2.,  2.,  4.,  8.,  7.,  6.,  6.,  2.,  7., nan],\n",
       "       [nan, nan, nan, nan, nan, nan, nan, nan, nan, nan, nan, nan]])"
      ]
     },
     "execution_count": 6,
     "metadata": {},
     "output_type": "execute_result"
    }
   ],
   "source": [
    "arr"
   ]
  },
  {
   "cell_type": "code",
   "execution_count": 7,
   "metadata": {},
   "outputs": [],
   "source": [
    "from itertools import product\n",
    "def make_mask(arr, row, col):\n",
    "    mask = np.zeros_like(arr)\n",
    "    rows = [row - 1, row, row + 1]\n",
    "    cols = [col - 1, col, col + 1]\n",
    "    for r, c in product(rows, cols):\n",
    "        mask[r, c] = 1\n",
    "\n",
    "    return mask"
   ]
  },
  {
   "cell_type": "code",
   "execution_count": 8,
   "metadata": {},
   "outputs": [
    {
     "name": "stdout",
     "output_type": "stream",
     "text": [
      "step 314\n"
     ]
    }
   ],
   "source": [
    "flashes = []\n",
    "for i in range(200000):\n",
    "    arr += 1\n",
    "    step_flashes = []\n",
    "    now_flashes = np.where(arr>9)\n",
    "\n",
    "    while len(now_flashes[0]) > 0:\n",
    "        # add one to all surrounding flashes\n",
    "        for row, col in zip(now_flashes[0], now_flashes[1]):\n",
    "            flashes.append((row, col))\n",
    "            step_flashes.append((row, col))\n",
    "            mask = make_mask(arr, row, col)\n",
    "            arr += mask\n",
    "            arr[row, col] = np.nan\n",
    "        \n",
    "        now_flashes = np.where(arr>9)\n",
    "    \n",
    "    # zero out flashes from this step\n",
    "    for row, col in step_flashes:\n",
    "        arr[row, col] = 0\n",
    "    \n",
    "    if len(step_flashes) == 100:\n",
    "        print(f\"step {i+1}\")\n",
    "        break"
   ]
  },
  {
   "cell_type": "code",
   "execution_count": 9,
   "metadata": {},
   "outputs": [
    {
     "data": {
      "text/plain": [
       "4748"
      ]
     },
     "execution_count": 9,
     "metadata": {},
     "output_type": "execute_result"
    }
   ],
   "source": [
    "len(flashes)"
   ]
  },
  {
   "cell_type": "code",
   "execution_count": 10,
   "metadata": {},
   "outputs": [
    {
     "data": {
      "text/plain": [
       "array([[nan, nan, nan, nan, nan, nan, nan, nan, nan, nan, nan, nan],\n",
       "       [nan,  0.,  0.,  0.,  0.,  0.,  0.,  0.,  0.,  0.,  0., nan],\n",
       "       [nan,  0.,  0.,  0.,  0.,  0.,  0.,  0.,  0.,  0.,  0., nan],\n",
       "       [nan,  0.,  0.,  0.,  0.,  0.,  0.,  0.,  0.,  0.,  0., nan],\n",
       "       [nan,  0.,  0.,  0.,  0.,  0.,  0.,  0.,  0.,  0.,  0., nan],\n",
       "       [nan,  0.,  0.,  0.,  0.,  0.,  0.,  0.,  0.,  0.,  0., nan],\n",
       "       [nan,  0.,  0.,  0.,  0.,  0.,  0.,  0.,  0.,  0.,  0., nan],\n",
       "       [nan,  0.,  0.,  0.,  0.,  0.,  0.,  0.,  0.,  0.,  0., nan],\n",
       "       [nan,  0.,  0.,  0.,  0.,  0.,  0.,  0.,  0.,  0.,  0., nan],\n",
       "       [nan,  0.,  0.,  0.,  0.,  0.,  0.,  0.,  0.,  0.,  0., nan],\n",
       "       [nan,  0.,  0.,  0.,  0.,  0.,  0.,  0.,  0.,  0.,  0., nan],\n",
       "       [nan, nan, nan, nan, nan, nan, nan, nan, nan, nan, nan, nan]])"
      ]
     },
     "execution_count": 10,
     "metadata": {},
     "output_type": "execute_result"
    }
   ],
   "source": [
    "arr"
   ]
  },
  {
   "cell_type": "code",
   "execution_count": null,
   "metadata": {},
   "outputs": [],
   "source": []
  }
 ],
 "metadata": {
  "interpreter": {
   "hash": "374e1bae6523d9f0252b5090632c3a4d70ad47348f337133822ea0c89515704c"
  },
  "kernelspec": {
   "display_name": "Python 3.9.7 64-bit ('aoc': conda)",
   "language": "python",
   "name": "python3"
  },
  "language_info": {
   "codemirror_mode": {
    "name": "ipython",
    "version": 3
   },
   "file_extension": ".py",
   "mimetype": "text/x-python",
   "name": "python",
   "nbconvert_exporter": "python",
   "pygments_lexer": "ipython3",
   "version": "3.9.7"
  },
  "orig_nbformat": 4
 },
 "nbformat": 4,
 "nbformat_minor": 2
}
