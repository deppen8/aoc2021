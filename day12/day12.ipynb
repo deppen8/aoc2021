{
 "cells": [
  {
   "cell_type": "code",
   "execution_count": 37,
   "metadata": {},
   "outputs": [],
   "source": [
    "from collections import defaultdict"
   ]
  },
  {
   "cell_type": "code",
   "execution_count": 40,
   "metadata": {},
   "outputs": [],
   "source": [
    "def parse_from_to(lines: list[str]) -> dict[str, list[str]]:\n",
    "    from_to = defaultdict(list)\n",
    "    for idx, line in enumerate(lines):\n",
    "        nodes = line.strip().split(\"-\")\n",
    "        \n",
    "        from_to[nodes[0]].append(nodes[1])\n",
    "        from_to[nodes[1]].append(nodes[0])\n",
    "    \n",
    "    for k, v in from_to.items():\n",
    "        for idx, node in enumerate(v):\n",
    "            if node == \"start\":\n",
    "                from_to[k].pop(idx)\n",
    "\n",
    "    from_to.pop(\"end\")\n",
    "\n",
    "    return from_to\n",
    "\n",
    "            "
   ]
  },
  {
   "cell_type": "code",
   "execution_count": null,
   "metadata": {},
   "outputs": [],
   "source": [
    "with open(\"./test_data.txt\") as f:\n",
    "    lines = f.readlines()\n",
    "\n",
    "# for line in lines:\n",
    "print(len(lines[0]))\n",
    "for node1, node2 in [node for node in lines[0].strip().split(\"-\")]:\n",
    "    print(node1, node2)"
   ]
  },
  {
   "cell_type": "code",
   "execution_count": 42,
   "metadata": {},
   "outputs": [],
   "source": [
    "d = parse_from_to(lines=lines)"
   ]
  },
  {
   "cell_type": "code",
   "execution_count": 43,
   "metadata": {},
   "outputs": [
    {
     "data": {
      "text/plain": [
       "defaultdict(list,\n",
       "            {'dc': ['end', 'HN', 'LN', 'kj'],\n",
       "             'HN': ['dc', 'end', 'kj'],\n",
       "             'start': ['HN', 'kj', 'dc'],\n",
       "             'kj': ['sa', 'HN', 'dc'],\n",
       "             'LN': ['dc'],\n",
       "             'sa': ['kj']})"
      ]
     },
     "execution_count": 43,
     "metadata": {},
     "output_type": "execute_result"
    }
   ],
   "source": [
    "d"
   ]
  },
  {
   "cell_type": "code",
   "execution_count": null,
   "metadata": {},
   "outputs": [],
   "source": [
    "paths = []\n",
    "current_path = []\n",
    "\n",
    "def generate_paths(nodes, src, visited_small=None, paths=None):\n",
    "    if visited_small is None:\n",
    "        visited_small = []\n",
    "    if paths is None:\n",
    "        paths = []\n",
    "\n",
    "    for dst in nodes[src]:\n",
    "        if dst[0].islower():\n",
    "            if dst == \"end\":\n",
    "                paths.append() \n",
    "            if dst in visited_small:\n",
    "\n",
    "                continue\n",
    "\n",
    "\n"
   ]
  }
 ],
 "metadata": {
  "interpreter": {
   "hash": "374e1bae6523d9f0252b5090632c3a4d70ad47348f337133822ea0c89515704c"
  },
  "kernelspec": {
   "display_name": "Python 3.9.7 64-bit ('aoc': conda)",
   "language": "python",
   "name": "python3"
  },
  "language_info": {
   "codemirror_mode": {
    "name": "ipython",
    "version": 3
   },
   "file_extension": ".py",
   "mimetype": "text/x-python",
   "name": "python",
   "nbconvert_exporter": "python",
   "pygments_lexer": "ipython3",
   "version": "3.9.7"
  },
  "orig_nbformat": 4
 },
 "nbformat": 4,
 "nbformat_minor": 2
}
