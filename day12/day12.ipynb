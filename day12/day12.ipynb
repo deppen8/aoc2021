{
 "cells": [
  {
   "cell_type": "code",
   "execution_count": 1,
   "metadata": {},
   "outputs": [],
   "source": [
    "from collections import defaultdict\n",
    "import networkx as nx"
   ]
  },
  {
   "cell_type": "code",
   "execution_count": 2,
   "metadata": {},
   "outputs": [],
   "source": [
    "def parse_from_to(lines: list[str]) -> dict[str, list[str]]:\n",
    "    from_to = defaultdict(list)\n",
    "    for idx, line in enumerate(lines):\n",
    "        nodes = line.strip().split(\"-\")\n",
    "        \n",
    "        from_to[nodes[0]].append(nodes[1])\n",
    "        from_to[nodes[1]].append(nodes[0])\n",
    "    \n",
    "    for k, v in from_to.items():\n",
    "        for idx, node in enumerate(v):\n",
    "            if node == \"start\":\n",
    "                from_to[k].pop(idx)\n",
    "\n",
    "    from_to.pop(\"end\")\n",
    "\n",
    "    return from_to"
   ]
  },
  {
   "cell_type": "code",
   "execution_count": 3,
   "metadata": {},
   "outputs": [],
   "source": [
    "with open(\"./data.txt\") as f:\n",
    "    lines = f.readlines()"
   ]
  },
  {
   "cell_type": "code",
   "execution_count": 4,
   "metadata": {},
   "outputs": [],
   "source": [
    "data = parse_from_to(lines)"
   ]
  },
  {
   "cell_type": "code",
   "execution_count": 5,
   "metadata": {},
   "outputs": [
    {
     "data": {
      "text/plain": [
       "defaultdict(list,\n",
       "            {'start': ['YA', 'yq', 'nf'],\n",
       "             'YA': ['yi', 'nf', 'yq'],\n",
       "             'ps': ['yq', 'QT', 'JS', 'yi'],\n",
       "             'yq': ['ps', 'VJ', 'JS', 'nf', 'YA'],\n",
       "             'zt': ['mu', 'QT'],\n",
       "             'mu': ['zt'],\n",
       "             'JS': ['yi', 'nf', 'ez', 'yq', 'ps', 'end'],\n",
       "             'yi': ['JS', 'YA', 'ps', 'QT', 'nf'],\n",
       "             'VJ': ['yq'],\n",
       "             'QT': ['ps', 'yi', 'end', 'zt'],\n",
       "             'nf': ['YA', 'JS', 'yq', 'yi'],\n",
       "             'ez': ['JS', 'end']})"
      ]
     },
     "execution_count": 5,
     "metadata": {},
     "output_type": "execute_result"
    }
   ],
   "source": [
    "data"
   ]
  },
  {
   "cell_type": "code",
   "execution_count": 6,
   "metadata": {},
   "outputs": [],
   "source": [
    "from collections import defaultdict\n",
    "\n",
    "\n",
    "def part1(data, path=['start']):\n",
    "    final = 0\n",
    "    for point in data[path[-1]]:\n",
    "        if point.isupper() or not point in path:\n",
    "            final += 1 if point == 'end' else part1(data, path + [point])\n",
    "    return final\n",
    "\n",
    "\n",
    "def part2(data, path=['start']):\n",
    "    final = 0\n",
    "    for point in data[path[-1]]:\n",
    "        final += 1 if point == 'end' else (part2,\n",
    "                                           part1)[point.islower()\n",
    "                                                  and point in path](\n",
    "                                                      data, path + [point])\n",
    "    return final\n"
   ]
  },
  {
   "cell_type": "code",
   "execution_count": 7,
   "metadata": {},
   "outputs": [
    {
     "data": {
      "text/plain": [
       "4304"
      ]
     },
     "execution_count": 7,
     "metadata": {},
     "output_type": "execute_result"
    }
   ],
   "source": [
    "part1(data, path=[\"start\"])"
   ]
  },
  {
   "cell_type": "code",
   "execution_count": 8,
   "metadata": {},
   "outputs": [
    {
     "data": {
      "text/plain": [
       "118242"
      ]
     },
     "execution_count": 8,
     "metadata": {},
     "output_type": "execute_result"
    }
   ],
   "source": [
    "part2(data, path=[\"start\"])"
   ]
  },
  {
   "cell_type": "code",
   "execution_count": null,
   "metadata": {},
   "outputs": [],
   "source": []
  }
 ],
 "metadata": {
  "interpreter": {
   "hash": "374e1bae6523d9f0252b5090632c3a4d70ad47348f337133822ea0c89515704c"
  },
  "kernelspec": {
   "display_name": "Python 3.9.7 64-bit ('aoc': conda)",
   "language": "python",
   "name": "python3"
  },
  "language_info": {
   "codemirror_mode": {
    "name": "ipython",
    "version": 3
   },
   "file_extension": ".py",
   "mimetype": "text/x-python",
   "name": "python",
   "nbconvert_exporter": "python",
   "pygments_lexer": "ipython3",
   "version": "3.9.7"
  },
  "orig_nbformat": 4
 },
 "nbformat": 4,
 "nbformat_minor": 2
}
