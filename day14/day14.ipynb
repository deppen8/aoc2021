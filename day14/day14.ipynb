{
 "cells": [
  {
   "cell_type": "code",
   "execution_count": null,
   "metadata": {},
   "outputs": [],
   "source": [
    "from itertools import pairwise"
   ]
  },
  {
   "cell_type": "code",
   "execution_count": 1,
   "metadata": {},
   "outputs": [],
   "source": [
    "rules = {\n",
    "    \"SV\": \"C\",\n",
    "    \"SF\": \"P\",\n",
    "    \"BP\": \"V\",\n",
    "    \"HC\": \"B\",\n",
    "    \"PK\": \"B\",\n",
    "    \"NF\": \"C\",\n",
    "    \"SN\": \"N\",\n",
    "    \"PF\": \"S\",\n",
    "    \"ON\": \"S\",\n",
    "    \"FC\": \"C\",\n",
    "    \"PN\": \"P\",\n",
    "    \"SC\": \"B\",\n",
    "    \"KS\": \"V\",\n",
    "    \"OS\": \"S\",\n",
    "    \"NC\": \"C\",\n",
    "    \"VH\": \"N\",\n",
    "    \"OH\": \"C\",\n",
    "    \"BB\": \"H\",\n",
    "    \"KV\": \"V\",\n",
    "    \"HP\": \"S\",\n",
    "    \"CP\": \"H\",\n",
    "    \"SO\": \"F\",\n",
    "    \"KK\": \"N\",\n",
    "    \"OO\": \"C\",\n",
    "    \"SH\": \"O\",\n",
    "    \"PB\": \"S\",\n",
    "    \"KP\": \"H\",\n",
    "    \"OC\": \"K\",\n",
    "    \"BN\": \"F\",\n",
    "    \"HH\": \"S\",\n",
    "    \"CH\": \"B\",\n",
    "    \"PC\": \"V\",\n",
    "    \"SB\": \"N\",\n",
    "    \"KO\": \"H\",\n",
    "    \"BH\": \"B\",\n",
    "    \"SK\": \"K\",\n",
    "    \"KF\": \"S\",\n",
    "    \"NH\": \"O\",\n",
    "    \"HN\": \"V\",\n",
    "    \"VN\": \"F\",\n",
    "    \"BC\": \"V\",\n",
    "    \"VP\": \"C\",\n",
    "    \"KN\": \"H\",\n",
    "    \"PV\": \"S\",\n",
    "    \"HB\": \"V\",\n",
    "    \"VV\": \"O\",\n",
    "    \"PO\": \"B\",\n",
    "    \"FN\": \"H\",\n",
    "    \"PP\": \"B\",\n",
    "    \"BF\": \"S\",\n",
    "    \"CB\": \"S\",\n",
    "    \"NK\": \"F\",\n",
    "    \"NO\": \"B\",\n",
    "    \"CC\": \"S\",\n",
    "    \"OF\": \"C\",\n",
    "    \"HS\": \"H\",\n",
    "    \"SP\": \"C\",\n",
    "    \"VB\": \"V\",\n",
    "    \"BK\": \"S\",\n",
    "    \"CO\": \"O\",\n",
    "    \"NS\": \"K\",\n",
    "    \"PH\": \"O\",\n",
    "    \"BV\": \"B\",\n",
    "    \"CK\": \"F\",\n",
    "    \"VC\": \"S\",\n",
    "    \"HK\": \"B\",\n",
    "    \"BO\": \"K\",\n",
    "    \"HV\": \"F\",\n",
    "    \"KC\": \"V\",\n",
    "    \"CN\": \"H\",\n",
    "    \"FS\": \"V\",\n",
    "    \"VS\": \"N\",\n",
    "    \"CF\": \"K\",\n",
    "    \"VO\": \"F\",\n",
    "    \"FH\": \"H\",\n",
    "    \"NB\": \"N\",\n",
    "    \"PS\": \"P\",\n",
    "    \"OK\": \"N\",\n",
    "    \"CV\": \"O\",\n",
    "    \"CS\": \"K\",\n",
    "    \"HO\": \"C\",\n",
    "    \"KB\": \"P\",\n",
    "    \"NN\": \"V\",\n",
    "    \"KH\": \"C\",\n",
    "    \"OB\": \"V\",\n",
    "    \"BS\": \"O\",\n",
    "    \"FB\": \"H\",\n",
    "    \"FF\": \"K\",\n",
    "    \"HF\": \"P\",\n",
    "    \"FO\": \"F\",\n",
    "    \"VF\": \"F\",\n",
    "    \"OP\": \"S\",\n",
    "    \"VK\": \"K\",\n",
    "    \"OV\": \"N\",\n",
    "    \"FK\": \"H\",\n",
    "    \"FP\": \"H\",\n",
    "    \"NV\": \"H\",\n",
    "    \"NP\": \"N\",\n",
    "    \"SS\": \"C\",\n",
    "    \"FV\": \"N\",\n",
    "}"
   ]
  },
  {
   "cell_type": "code",
   "execution_count": 2,
   "metadata": {},
   "outputs": [],
   "source": [
    "# rules = {\n",
    "#     \"CH\": \"B\",\n",
    "#     \"HH\": \"N\",\n",
    "#     \"CB\": \"H\",\n",
    "#     \"NH\": \"C\",\n",
    "#     \"HB\": \"C\",\n",
    "#     \"HC\": \"B\",\n",
    "#     \"HN\": \"C\",\n",
    "#     \"NN\": \"C\",\n",
    "#     \"BH\": \"H\",\n",
    "#     \"NC\": \"B\",\n",
    "#     \"NB\": \"B\",\n",
    "#     \"BN\": \"B\",\n",
    "#     \"BB\": \"N\",\n",
    "#     \"BC\": \"B\",\n",
    "#     \"CC\": \"N\",\n",
    "#     \"CN\": \"C\",\n",
    "# }"
   ]
  },
  {
   "cell_type": "code",
   "execution_count": 4,
   "metadata": {},
   "outputs": [],
   "source": [
    "# PART 1\n",
    "# # template = \"NNCB\"\n",
    "# template = \"VNVVKSNNFPBBBVSCVBBC\"\n",
    "\n",
    "# for _ in range(10):\n",
    "#     new = \"\"\n",
    "#     # generate pairs\n",
    "#     for pair in pairwise(template):\n",
    "#         # look up pair\n",
    "#         new += pair[0] + rules[pair[0]+pair[1]]\n",
    "    \n",
    "#     template = new  + pair[1]\n",
    "\n",
    "# from collections import Counter\n",
    "# max(Counter(template).values()) - min(Counter(template).values())\n"
   ]
  },
  {
   "cell_type": "code",
   "execution_count": 11,
   "metadata": {},
   "outputs": [],
   "source": [
    "# PART 2\n",
    "transitions = {k: (k[0] + v, v + k[1]) for k, v in rules.items()}\n",
    "\n",
    "cts = {k: 0 for k in rules.keys()}\n",
    "\n",
    "char_cts = {letter: 0 for letter in set(\"\".join(k for k in rules.keys()))}\n",
    "\n",
    "# template = \"NNCB\"\n",
    "template = \"VNVVKSNNFPBBBVSCVBBC\"\n",
    "\n",
    "for pair in pairwise(template):\n",
    "    cts[pair[0] + pair[1]] += 1\n",
    "\n",
    "n_steps = 40\n",
    "for step in range(n_steps):\n",
    "    cts_step = {k: 0 for k in rules.keys()}\n",
    "    for k, v in cts.items():\n",
    "        for new_pair in transitions[k]:\n",
    "            cts_step[new_pair] += v\n",
    "            if step == n_steps - 1:\n",
    "                char_cts[new_pair[0]] += v / 2\n",
    "                char_cts[new_pair[1]] += v / 2\n",
    "    cts = cts_step\n",
    "\n",
    "char_cts[template[0]] += 0.5\n",
    "char_cts[template[-1]] += 0.5\n",
    "    "
   ]
  },
  {
   "cell_type": "code",
   "execution_count": 12,
   "metadata": {},
   "outputs": [
    {
     "data": {
      "text/plain": [
       "{'F': 2662445968068.0,\n",
       " 'C': 1074264218824.0,\n",
       " 'S': 2807066214377.0,\n",
       " 'K': 1293349712552.0,\n",
       " 'N': 1975295538949.0,\n",
       " 'V': 2466159181794.0,\n",
       " 'H': 3918098460190.0,\n",
       " 'B': 2320648606516.0,\n",
       " 'O': 1203571008272.0,\n",
       " 'P': 1169822018203.0}"
      ]
     },
     "execution_count": 12,
     "metadata": {},
     "output_type": "execute_result"
    }
   ],
   "source": [
    "char_cts"
   ]
  },
  {
   "cell_type": "code",
   "execution_count": 13,
   "metadata": {},
   "outputs": [
    {
     "data": {
      "text/plain": [
       "2843834241366.0"
      ]
     },
     "execution_count": 13,
     "metadata": {},
     "output_type": "execute_result"
    }
   ],
   "source": [
    "max(char_cts.values()) - min(char_cts.values())"
   ]
  }
 ],
 "metadata": {
  "interpreter": {
   "hash": "374e1bae6523d9f0252b5090632c3a4d70ad47348f337133822ea0c89515704c"
  },
  "kernelspec": {
   "display_name": "Python 3.9.7 64-bit ('aoc': conda)",
   "language": "python",
   "name": "python3"
  },
  "language_info": {
   "codemirror_mode": {
    "name": "ipython",
    "version": 3
   },
   "file_extension": ".py",
   "mimetype": "text/x-python",
   "name": "python",
   "nbconvert_exporter": "python",
   "pygments_lexer": "ipython3",
   "version": "3.9.7"
  },
  "orig_nbformat": 4
 },
 "nbformat": 4,
 "nbformat_minor": 2
}
